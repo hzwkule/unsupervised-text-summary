{
 "cells": [
  {
   "cell_type": "code",
   "execution_count": 8,
   "metadata": {},
   "outputs": [],
   "source": [
    "# extract wiki dump file using wikiextractor\n",
    "# python -m wikiextractor.WikiExtractor <Wikipedia dump file>\n",
    "# i.e. python -m wikiextractor.WikiExtractor zhwiki-20200920-pages-articles-multistream.xml.bz2"
   ]
  },
  {
   "cell_type": "code",
   "execution_count": 9,
   "metadata": {},
   "outputs": [],
   "source": [
    "# clean sql data and extracted wiki data"
   ]
  },
  {
   "cell_type": "code",
   "execution_count": 10,
   "metadata": {},
   "outputs": [],
   "source": [
    "import numpy as np\n",
    "import pandas as pd\n",
    "import random\n",
    "import os\n",
    "import re\n",
    "from collections import Counter\n",
    "import jieba\n",
    "import matplotlib.pyplot as plt\n",
    "from hanziconv import HanziConv"
   ]
  },
  {
   "cell_type": "markdown",
   "metadata": {},
   "source": [
    "## Preprocess data"
   ]
  },
  {
   "cell_type": "code",
   "execution_count": 11,
   "metadata": {},
   "outputs": [],
   "source": [
    "output_filename = \"processed_data_simplified.cor\"\n",
    "sql_data = 'sqlResult_1558435.csv'\n",
    "clean_sql_data = 'clean_sql_data.txt'"
   ]
  },
  {
   "cell_type": "code",
   "execution_count": 12,
   "metadata": {},
   "outputs": [],
   "source": [
    "# clean sql data execute **once only**\n",
    "# df_ = pd.read_csv(\"sqlResult_1558435.csv\",encoding=\"gb18030\")\n",
    "# df = df_.copy()\n",
    "# sql_content = df['content'].values\n",
    "# with open(clean_sql_data, 'w') as f:\n",
    "#     for line in sql_content:\n",
    "#         f.write(str(line))"
   ]
  },
  {
   "cell_type": "code",
   "execution_count": 13,
   "metadata": {},
   "outputs": [],
   "source": [
    "# special characters elimation elimination\n",
    "def filter_special_characters(line):\n",
    "    special_characters = re.compile(\"\\\\【.*?】+|\\\\《.*?》+|\\\\#.*?#+|[.!/_,$&%^*()<>+\"\"'?@|:~{}#]+|[——！\\\\\\，。=？、：“”‘’￥……（）《》【】]\")\n",
    "    clean_line = special_characters.sub('', line)\n",
    "    return clean_line\n",
    "\n",
    "# cut words\n",
    "def cut_words(line):\n",
    "    return list(jieba.cut(line))\n",
    "\n",
    "# get rid of stop words\n",
    "def get_stopwords():\n",
    "    stopwords = []\n",
    "    with open('stop_words.txt', encoding = 'gbk') as f:\n",
    "        for line in f:\n",
    "            stopwords.append(line.strip())\n",
    "    return stopwords\n",
    "\n",
    "def convert2simplified(line):\n",
    "    return HanziConv.toSimplified(line)"
   ]
  },
  {
   "cell_type": "code",
   "execution_count": 14,
   "metadata": {},
   "outputs": [],
   "source": [
    "stopwords = get_stopwords()\n",
    "def write_to_file(filename, line):\n",
    "    with open(filename, 'a+') as f:\n",
    "        f.write(line)\n",
    "\n",
    "def join_cut_words(words):\n",
    "    clean_words = []\n",
    "    for word in words:\n",
    "        if word not in stopwords:\n",
    "            clean_words.append(word)\n",
    "    return ' '.join(clean_words)\n",
    "\n",
    "\n",
    "def process_document(filename):\n",
    "    with open(filename, 'r') as f:\n",
    "        for line in f:\n",
    "            filtered_line = filter_special_characters(line)\n",
    "            simplified_line = convert2simplified(filtered_line)\n",
    "            words = cut_words(simplified_line)\n",
    "            new_line = join_cut_words(words)\n",
    "            write_to_file(output_filename, new_line)"
   ]
  },
  {
   "cell_type": "code",
   "execution_count": 15,
   "metadata": {},
   "outputs": [
    {
     "name": "stderr",
     "output_type": "stream",
     "text": [
      "Building prefix dict from the default dictionary ...\n",
      "Dumping model to file cache /var/folders/sw/3qv9ws295vsfz9kzcdgn8m4r0000gn/T/jieba.cache\n",
      "Loading model cost 0.829 seconds.\n",
      "Prefix dict has been built successfully.\n"
     ]
    }
   ],
   "source": [
    "# preprocess sql data\n",
    "process_document(clean_sql_data)"
   ]
  },
  {
   "cell_type": "code",
   "execution_count": 16,
   "metadata": {},
   "outputs": [],
   "source": [
    "# preprocess wiki data\n",
    "wiki_root_dir = './text/'\n",
    "all_wiki_data_dirs = os.listdir(wiki_root_dir)\n",
    "for sub_dir in all_wiki_data_dirs:\n",
    "    sub_dir += '/'\n",
    "    files_in_sub = os.listdir(wiki_root_dir + sub_dir)\n",
    "    for each_file in files_in_sub:\n",
    "        process_document(wiki_root_dir + sub_dir + each_file)"
   ]
  },
  {
   "cell_type": "code",
   "execution_count": null,
   "metadata": {},
   "outputs": [],
   "source": []
  },
  {
   "cell_type": "code",
   "execution_count": null,
   "metadata": {},
   "outputs": [],
   "source": []
  },
  {
   "cell_type": "code",
   "execution_count": null,
   "metadata": {},
   "outputs": [],
   "source": []
  }
 ],
 "metadata": {
  "kernelspec": {
   "display_name": "Python 3",
   "language": "python",
   "name": "python3"
  },
  "language_info": {
   "codemirror_mode": {
    "name": "ipython",
    "version": 3
   },
   "file_extension": ".py",
   "mimetype": "text/x-python",
   "name": "python",
   "nbconvert_exporter": "python",
   "pygments_lexer": "ipython3",
   "version": "3.7.4"
  }
 },
 "nbformat": 4,
 "nbformat_minor": 2
}
